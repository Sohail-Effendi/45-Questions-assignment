{
  "nbformat": 4,
  "nbformat_minor": 0,
  "metadata": {
    "colab": {
      "provenance": [],
      "authorship_tag": "ABX9TyPd/CnIEqSn6Qb+Xn1Brnto",
      "include_colab_link": true
    },
    "kernelspec": {
      "name": "python3",
      "display_name": "Python 3"
    },
    "language_info": {
      "name": "python"
    }
  },
  "cells": [
    {
      "cell_type": "markdown",
      "metadata": {
        "id": "view-in-github",
        "colab_type": "text"
      },
      "source": [
        "<a href=\"https://colab.research.google.com/github/Sohail-Effendi/45-Questions-assignment/blob/main/Scalculator.ipynb\" target=\"_parent\"><img src=\"https://colab.research.google.com/assets/colab-badge.svg\" alt=\"Open In Colab\"/></a>"
      ]
    },
    {
      "cell_type": "code",
      "execution_count": 4,
      "metadata": {
        "id": "Np3GTDwTGXH8",
        "colab": {
          "base_uri": "https://localhost:8080/"
        },
        "outputId": "d109cc46-34c3-439d-84d9-671dae15516f"
      },
      "outputs": [
        {
          "output_type": "stream",
          "name": "stdout",
          "text": [
            "choose * + - / :+\n",
            "number1:5\n",
            "number2:5\n",
            "5 + 5 = 10\n"
          ]
        }
      ],
      "source": [
        "def add(a,b):\n",
        "  c=a+b\n",
        "  print(a, \"+\", b,\"=\", c)\n",
        "\n",
        "def mins(a,b):\n",
        "  c=a-b\n",
        "  print(a, \"-\", b,\"=\", c)\n",
        "\n",
        "def multiply(a,b):\n",
        "  c=a*b\n",
        "  print(a, \"*\", b,\"=\", c)\n",
        "\n",
        "def divide(a,b):\n",
        "  c=a/b\n",
        "  print(a, \"/\", b,\"=\", c)\n",
        "\n",
        "n=(input(\"choose * + - / :\"))\n",
        "\n",
        "if n==\"+\":\n",
        "  a=int(input(\"number1:\"))\n",
        "  b=int(input(\"number2:\"))\n",
        "  add(a,b)\n",
        "elif n==\"-\":\n",
        "  a=int(input(\"number1:\"))\n",
        "  b=int(input(\"number2:\"))\n",
        "  mins(a,b)\n",
        "elif n==\"*\":\n",
        "  a=int(input(\"number1:\"))\n",
        "  b=int(input(\"number2:\"))\n",
        "  multiply(a,b)\n",
        "elif n==\"/\":\n",
        "  a=int(input(\"number1:\"))\n",
        "  b=int(input(\"number2:\"))\n",
        "  divide(a,b)\n",
        "else:\n",
        "  print(\"Invalid input\")\n",
        ""
      ]
    }
  ]
}